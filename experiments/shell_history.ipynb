{
 "cells": [
  {
   "cell_type": "code",
   "execution_count": 8,
   "metadata": {},
   "outputs": [
    {
     "data": {
      "text/plain": [
       "True"
      ]
     },
     "execution_count": 8,
     "metadata": {},
     "output_type": "execute_result"
    }
   ],
   "source": [
    "from PIL import Image\n",
    "\n",
    "import pytesseract\n",
    "import glob, os\n",
    "from pprint import pprint\n",
    "import requests\n",
    "\n",
    "from dotenv import load_dotenv\n",
    "load_dotenv()\n"
   ]
  },
  {
   "cell_type": "code",
   "execution_count": null,
   "metadata": {},
   "outputs": [],
   "source": [
    "token = os.environ['HUGGING_FACE_TOKEN']\n",
    "\n",
    "API_URL = \"https://api-inference.huggingface.co/models/sentence-transformers/all-MiniLM-L6-v2\"\n",
    "headers = {\"Authorization\": f\"Bearer {token}\"}\n",
    "\n",
    "def query(payload):\n",
    "\tresponse = requests.post(API_URL, headers=headers, json=payload)\n",
    "\treturn response.json()\n",
    "\n",
    "def best_matches(command):\n",
    "    output = query({\n",
    "      \"inputs\": {\n",
    "        \"source_sentence\": command,\n",
    "        \"sentences\": history\n",
    "      },\n",
    "    })\n",
    "    if ('error' in output):\n",
    "      raise Exception(output['error'])\n",
    "\n",
    "    with_probabilities = list(zip(history, output))\n",
    "\n",
    "    print(f\"\\nTop matches for command `{command}`:\")\n",
    "    for command, probability in sorted(with_probabilities, key=lambda x: x[1], reverse=True)[:10]:\n",
    "      print(f\"\\t{command.ljust(30)}: {probability:.2f}\")\n",
    "\n",
    "    return sorted(with_probabilities, key=lambda x: x[1], reverse=True)\n"
   ]
  }
 ],
 "metadata": {
  "kernelspec": {
   "display_name": "Python 3.9.11 ('.venv': poetry)",
   "language": "python",
   "name": "python3"
  },
  "language_info": {
   "codemirror_mode": {
    "name": "ipython",
    "version": 3
   },
   "file_extension": ".py",
   "mimetype": "text/x-python",
   "name": "python",
   "nbconvert_exporter": "python",
   "pygments_lexer": "ipython3",
   "version": "3.9.11"
  },
  "orig_nbformat": 4,
  "vscode": {
   "interpreter": {
    "hash": "1c6560affe5663b5b2bc1506f7c026affd8024ef64d6bc4965522dab859aa7eb"
   }
  }
 },
 "nbformat": 4,
 "nbformat_minor": 2
}
